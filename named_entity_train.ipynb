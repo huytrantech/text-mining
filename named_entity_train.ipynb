{
 "cells": [
  {
   "cell_type": "code",
   "execution_count": 1,
   "metadata": {
    "ExecuteTime": {
     "end_time": "2023-12-16T06:54:34.698924Z",
     "start_time": "2023-12-16T06:54:33.229493Z"
    }
   },
   "outputs": [],
   "source": [
    "import json\n",
    "import re\n",
    "import spacy"
   ]
  },
  {
   "cell_type": "code",
   "execution_count": 2,
   "metadata": {
    "ExecuteTime": {
     "end_time": "2023-12-14T06:40:22.819309Z",
     "start_time": "2023-12-14T06:40:22.703714Z"
    },
    "collapsed": false,
    "jupyter": {
     "outputs_hidden": false
    }
   },
   "outputs": [],
   "source": [
    "nlp = spacy.blank(\"en\")"
   ]
  },
  {
   "cell_type": "code",
   "execution_count": 3,
   "metadata": {
    "ExecuteTime": {
     "end_time": "2023-12-14T06:40:23.820753Z",
     "start_time": "2023-12-14T06:40:23.816406Z"
    },
    "collapsed": false,
    "jupyter": {
     "outputs_hidden": false
    }
   },
   "outputs": [],
   "source": [
    "def convert_dataturks_to_spacy(dataturks_JSON_FilePath):\n",
    "    training_data = []\n",
    "    lines=[]\n",
    "    with open(dataturks_JSON_FilePath, 'r') as f:\n",
    "        lines = f.readlines()\n",
    "\n",
    "    for line in lines:\n",
    "        data = json.loads(line)\n",
    "        text = data['content'].replace(\"\\n\", \" \")\n",
    "        entities = []\n",
    "        data_annotations = data['annotation']\n",
    "        if data_annotations is not None:\n",
    "            for annotation in data_annotations:\n",
    "                #only a single point in text annotation.\n",
    "                point = annotation['points'][0]\n",
    "                labels = annotation['label']\n",
    "                # handle both list of labels or a single label.\n",
    "                if not isinstance(labels, list):\n",
    "                    labels = [labels]\n",
    "                for label in labels:\n",
    "                    point_start = point['start']\n",
    "                    point_end = point['end']\n",
    "                    point_text = point['text']\n",
    "\n",
    "                    lstrip_diff = len(point_text) - len(point_text.lstrip())\n",
    "                    rstrip_diff = len(point_text) - len(point_text.rstrip())\n",
    "                    if lstrip_diff != 0:\n",
    "                        point_start = point_start + lstrip_diff\n",
    "                    if rstrip_diff != 0:\n",
    "                        point_end = point_end - rstrip_diff\n",
    "                    entities.append((point_start, point_end + 1 , label))\n",
    "        training_data.append((text, {\"entities\" : entities}))\n",
    "    return training_data"
   ]
  },
  {
   "cell_type": "code",
   "execution_count": 4,
   "metadata": {
    "ExecuteTime": {
     "end_time": "2023-12-14T06:40:25.644636Z",
     "start_time": "2023-12-14T06:40:25.641864Z"
    },
    "collapsed": false,
    "jupyter": {
     "outputs_hidden": false
    }
   },
   "outputs": [],
   "source": [
    "def trim_entity_spans(data: list) -> list:\n",
    "    \"\"\"Removes leading and trailing white spaces from entity spans.\n",
    "\n",
    "    Args:\n",
    "        data (list): The data to be cleaned in spaCy JSON format.\n",
    "\n",
    "    Returns:\n",
    "        list: The cleaned data.\n",
    "    \"\"\"\n",
    "    invalid_span_tokens = re.compile(r'\\s')\n",
    "\n",
    "    cleaned_data = []\n",
    "    for text, annotations in data:\n",
    "        entities = annotations['entities']\n",
    "        valid_entities = []\n",
    "        for start, end, label in entities:\n",
    "            valid_start = start\n",
    "            valid_end = end\n",
    "            while valid_start < len(text) and invalid_span_tokens.match(\n",
    "                    text[valid_start]):\n",
    "                valid_start += 1\n",
    "            while valid_end > 1 and invalid_span_tokens.match(\n",
    "                    text[valid_end - 1]):\n",
    "                valid_end -= 1\n",
    "            valid_entities.append([valid_start, valid_end, label])\n",
    "        cleaned_data.append([text, {'entities': valid_entities}])\n",
    "    return cleaned_data"
   ]
  },
  {
   "cell_type": "code",
   "execution_count": 5,
   "metadata": {
    "ExecuteTime": {
     "end_time": "2023-12-14T06:40:28.088757Z",
     "start_time": "2023-12-14T06:40:28.060670Z"
    },
    "collapsed": false,
    "jupyter": {
     "outputs_hidden": false
    }
   },
   "outputs": [
    {
     "data": {
      "text/plain": [
       "[\"Abhishek Jha Application Development Associate - Accenture  Bengaluru, Karnataka - Email me on Indeed: indeed.com/r/Abhishek-Jha/10e7a8cb732bc43a  • To work for an organization which provides me the opportunity to improve my skills and knowledge for my individual and company's growth in best possible ways.  Willing to relocate to: Bangalore, Karnataka  WORK EXPERIENCE  Application Development Associate  Accenture -  November 2017 to Present  Role: Currently working on Chat-bot. Developing Backend Oracle PeopleSoft Queries for the Bot which will be triggered based on given input. Also, Training the bot for different possible utterances (Both positive and negative), which will be given as input by the user.  EDUCATION  B.E in Information science and engineering  B.v.b college of engineering and technology -  Hubli, Karnataka  August 2013 to June 2017  12th in Mathematics  Woodbine modern school  April 2011 to March 2013  10th  Kendriya Vidyalaya  April 2001 to March 2011  SKILLS  C (Less than 1 year), Database (Less than 1 year), Database Management (Less than 1 year), Database Management System (Less than 1 year), Java (Less than 1 year)  ADDITIONAL INFORMATION  Technical Skills  https://www.indeed.com/r/Abhishek-Jha/10e7a8cb732bc43a?isid=rex-download&ikw=download-top&co=IN   • Programming language: C, C++, Java • Oracle PeopleSoft • Internet Of Things • Machine Learning • Database Management System • Computer Networks • Operating System worked on: Linux, Windows, Mac  Non - Technical Skills  • Honest and Hard-Working • Tolerant and Flexible to Different Situations • Polite and Calm • Team-Player\",\n",
       " {'entities': [[1296, 1622, 'Skills'],\n",
       "   [993, 1154, 'Skills'],\n",
       "   [939, 957, 'College Name'],\n",
       "   [883, 905, 'College Name'],\n",
       "   [856, 860, 'Graduation Year'],\n",
       "   [771, 814, 'College Name'],\n",
       "   [727, 769, 'Designation'],\n",
       "   [407, 416, 'Companies worked at'],\n",
       "   [372, 405, 'Designation'],\n",
       "   [95, 145, 'Email Address'],\n",
       "   [60, 69, 'Location'],\n",
       "   [49, 58, 'Companies worked at'],\n",
       "   [13, 46, 'Designation'],\n",
       "   [0, 12, 'Name']]}]"
      ]
     },
     "execution_count": 5,
     "metadata": {},
     "output_type": "execute_result"
    }
   ],
   "source": [
    "data = trim_entity_spans(convert_dataturks_to_spacy(\"Entity_Recognition_in_Resumes.json\"))\n",
    "data[0]"
   ]
  },
  {
   "cell_type": "code",
   "execution_count": 6,
   "metadata": {
    "ExecuteTime": {
     "end_time": "2023-12-13T08:26:47.717199Z",
     "start_time": "2023-12-13T08:26:47.714532Z"
    },
    "collapsed": false,
    "jupyter": {
     "outputs_hidden": false
    }
   },
   "outputs": [],
   "source": [
    "dataSpacy = []\n",
    "for element in data:\n",
    "    text = element[0]\n",
    "    labelEntities = element[1][\"entities\"]\n",
    "    entities = []\n",
    "    for elementEntities in labelEntities:\n",
    "        entities.append((elementEntities[0],elementEntities[1],elementEntities[2]))\n",
    "    dataSpacy.append((text,entities))"
   ]
  },
  {
   "cell_type": "code",
   "execution_count": 8,
   "metadata": {
    "ExecuteTime": {
     "end_time": "2023-12-13T08:22:12.454404Z",
     "start_time": "2023-12-13T08:22:12.451964Z"
    },
    "collapsed": false,
    "jupyter": {
     "outputs_hidden": false
    }
   },
   "outputs": [
    {
     "name": "stdout",
     "output_type": "stream",
     "text": [
      "(\"Abhishek Jha Application Development Associate - Accenture  Bengaluru, Karnataka - Email me on Indeed: indeed.com/r/Abhishek-Jha/10e7a8cb732bc43a  • To work for an organization which provides me the opportunity to improve my skills and knowledge for my individual and company's growth in best possible ways.  Willing to relocate to: Bangalore, Karnataka  WORK EXPERIENCE  Application Development Associate  Accenture -  November 2017 to Present  Role: Currently working on Chat-bot. Developing Backend Oracle PeopleSoft Queries for the Bot which will be triggered based on given input. Also, Training the bot for different possible utterances (Both positive and negative), which will be given as input by the user.  EDUCATION  B.E in Information science and engineering  B.v.b college of engineering and technology -  Hubli, Karnataka  August 2013 to June 2017  12th in Mathematics  Woodbine modern school  April 2011 to March 2013  10th  Kendriya Vidyalaya  April 2001 to March 2011  SKILLS  C (Less than 1 year), Database (Less than 1 year), Database Management (Less than 1 year), Database Management System (Less than 1 year), Java (Less than 1 year)  ADDITIONAL INFORMATION  Technical Skills  https://www.indeed.com/r/Abhishek-Jha/10e7a8cb732bc43a?isid=rex-download&ikw=download-top&co=IN   • Programming language: C, C++, Java • Oracle PeopleSoft • Internet Of Things • Machine Learning • Database Management System • Computer Networks • Operating System worked on: Linux, Windows, Mac  Non - Technical Skills  • Honest and Hard-Working • Tolerant and Flexible to Different Situations • Polite and Calm • Team-Player\", [(1296, 1622, 'Skills'), (993, 1154, 'Skills'), (939, 957, 'College Name'), (883, 905, 'College Name'), (856, 860, 'Graduation Year'), (771, 814, 'College Name'), (727, 769, 'Designation'), (407, 416, 'Companies worked at'), (372, 405, 'Designation'), (95, 145, 'Email Address'), (60, 69, 'Location'), (49, 58, 'Companies worked at'), (13, 46, 'Designation'), (0, 12, 'Name')])\n"
     ]
    }
   ],
   "source": [
    "print(dataSpacy[0])"
   ]
  },
  {
   "cell_type": "code",
   "execution_count": 79,
   "metadata": {
    "ExecuteTime": {
     "end_time": "2023-12-13T08:03:43.942876Z",
     "start_time": "2023-12-13T08:03:43.938083Z"
    },
    "collapsed": false,
    "jupyter": {
     "outputs_hidden": false
    }
   },
   "outputs": [
    {
     "name": "stdout",
     "output_type": "stream",
     "text": [
      "220\n"
     ]
    }
   ],
   "source": [
    "print(len(dataSpacy))"
   ]
  },
  {
   "cell_type": "code",
   "execution_count": 5,
   "metadata": {
    "ExecuteTime": {
     "end_time": "2023-12-13T06:59:44.186589Z",
     "start_time": "2023-12-13T06:59:43.317328Z"
    },
    "collapsed": false,
    "jupyter": {
     "outputs_hidden": false
    }
   },
   "outputs": [],
   "source": [
    "from spacy.tokens import DocBin"
   ]
  },
  {
   "cell_type": "code",
   "execution_count": 6,
   "metadata": {
    "ExecuteTime": {
     "end_time": "2023-12-13T07:01:16.288409Z",
     "start_time": "2023-12-13T07:01:16.280875Z"
    },
    "collapsed": false,
    "jupyter": {
     "outputs_hidden": false
    }
   },
   "outputs": [],
   "source": [
    "db = DocBin()"
   ]
  },
  {
   "cell_type": "code",
   "execution_count": null,
   "metadata": {
    "collapsed": false,
    "jupyter": {
     "outputs_hidden": false
    }
   },
   "outputs": [],
   "source": [
    "err_total = 0\n",
    "for element in data:\n",
    "    text = element[0]\n",
    "    labelEntities = element[1][\"entities\"]\n",
    "    doc = nlp(text)\n",
    "    ents = []\n",
    "    for labelElement in labelEntities:\n",
    "        start = labelElement[0]\n",
    "        end = labelElement[1]\n",
    "        label = labelElement[2]\n",
    "        span = doc.char_span(start, end, label=label)\n",
    "        if span is None:\n",
    "            err_total +=1\n",
    "        else:\n",
    "            ents.append(span)\n",
    "    doc.ents = ents\n",
    "    db.add(doc)\n",
    "# db.to_disk(\"./train.spacy\")"
   ]
  },
  {
   "cell_type": "code",
   "execution_count": 76,
   "metadata": {
    "ExecuteTime": {
     "end_time": "2023-12-13T07:55:22.432615Z",
     "start_time": "2023-12-13T07:55:22.430423Z"
    },
    "collapsed": false,
    "jupyter": {
     "outputs_hidden": false
    }
   },
   "outputs": [
    {
     "data": {
      "text/plain": [
       "5"
      ]
     },
     "execution_count": 76,
     "metadata": {},
     "output_type": "execute_result"
    }
   ],
   "source": [
    "err_total"
   ]
  },
  {
   "cell_type": "code",
   "execution_count": 9,
   "metadata": {
    "ExecuteTime": {
     "end_time": "2023-12-13T08:31:44.807823Z",
     "start_time": "2023-12-13T08:31:43.672530Z"
    },
    "collapsed": false,
    "jupyter": {
     "outputs_hidden": false
    }
   },
   "outputs": [],
   "source": [
    "import spacy\n",
    "from spacy.tokens import DocBin\n",
    "nlp = spacy.blank(\"en\")\n",
    "\n",
    "# the DocBin will store the example documents\n",
    "db = DocBin()\n",
    "for text, annotations in dataSpacy:\n",
    "    doc = nlp(text)\n",
    "    ents = []\n",
    "    try:\n",
    "        for start, end, label in annotations:\n",
    "            span = doc.char_span(start, end, label=label)\n",
    "            if span is None:\n",
    "                continue\n",
    "            ents.append(span)\n",
    "        doc.ents = ents\n",
    "    except:\n",
    "        continue\n",
    "    db.add(doc)\n",
    "db.to_disk(\"./train.spacy\")"
   ]
  },
  {
   "cell_type": "code",
   "execution_count": null,
   "metadata": {
    "collapsed": false,
    "jupyter": {
     "outputs_hidden": false
    }
   },
   "outputs": [],
   "source": [
    " # python -m spacy init fill-config base_config.cfg config.cfg\n",
    "# python -m spacy train config.cfg --output ./ --paths.train ./train.spacy --paths.dev ./train.spacy --gpu-id 0"
   ]
  },
  {
   "cell_type": "code",
   "execution_count": 6,
   "metadata": {
    "ExecuteTime": {
     "end_time": "2023-12-14T06:40:33.208655Z",
     "start_time": "2023-12-14T06:40:33.014931Z"
    },
    "collapsed": false,
    "jupyter": {
     "outputs_hidden": false
    }
   },
   "outputs": [],
   "source": [
    "nlp_ner = spacy.load(\"model-best\")"
   ]
  },
  {
   "cell_type": "code",
   "execution_count": 7,
   "metadata": {},
   "outputs": [],
   "source": [
    "color_tag = {\n",
    "    \"Skills\":\"#FFFF66\",\n",
    "    \"College Name\":\"#99FFFF\",\n",
    "    \"Degree\":\"#FFCC66\",\n",
    "    \"Name\":\"#FF9999\",\n",
    "    \"Designation\":\"#0099CC\",\n",
    "    \"Companies worked at\":\"#00CC99\",\n",
    "    \"Location\":\"#CC6666\"\n",
    "}"
   ]
  },
  {
   "cell_type": "code",
   "execution_count": 8,
   "metadata": {
    "ExecuteTime": {
     "end_time": "2023-12-14T06:40:39.496928Z",
     "start_time": "2023-12-14T06:40:39.446760Z"
    },
    "collapsed": false,
    "jupyter": {
     "outputs_hidden": false
    }
   },
   "outputs": [
    {
     "data": {
      "text/html": [
       "<span class=\"tex2jax_ignore\"><div class=\"entities\" style=\"line-height: 2.5; direction: ltr\">\n",
       "<mark class=\"entity\" style=\"background: #FF9999; padding: 0.45em 0.6em; margin: 0 0.25em; line-height: 1; border-radius: 0.35em;\">\n",
       "    Ananya Chavan\n",
       "    <span style=\"font-size: 0.8em; font-weight: bold; line-height: 1; border-radius: 0.35em; vertical-align: middle; margin-left: 0.5rem\">Name</span>\n",
       "</mark>\n",
       "<br>\n",
       "<mark class=\"entity\" style=\"background: #0099CC; padding: 0.45em 0.6em; margin: 0 0.25em; line-height: 1; border-radius: 0.35em;\">\n",
       "    lecturer\n",
       "    <span style=\"font-size: 0.8em; font-weight: bold; line-height: 1; border-radius: 0.35em; vertical-align: middle; margin-left: 0.5rem\">Designation</span>\n",
       "</mark>\n",
       " - \n",
       "<mark class=\"entity\" style=\"background: #00CC99; padding: 0.45em 0.6em; margin: 0 0.25em; line-height: 1; border-radius: 0.35em;\">\n",
       "    oracle tutorials\n",
       "    <span style=\"font-size: 0.8em; font-weight: bold; line-height: 1; border-radius: 0.35em; vertical-align: middle; margin-left: 0.5rem\">Companies worked at</span>\n",
       "</mark>\n",
       "<br><br>\n",
       "<mark class=\"entity\" style=\"background: #CC6666; padding: 0.45em 0.6em; margin: 0 0.25em; line-height: 1; border-radius: 0.35em;\">\n",
       "    Mumbai\n",
       "    <span style=\"font-size: 0.8em; font-weight: bold; line-height: 1; border-radius: 0.35em; vertical-align: middle; margin-left: 0.5rem\">Location</span>\n",
       "</mark>\n",
       ", Maharashtra - Email me on Indeed: indeed.com/r/Ananya-<br>Chavan/738779ab71971a96<br><br>Seeking a responsible job with an opportunity for professional challenges and utilize my skills<br>up to its extreme.<br><br>WORK EXPERIENCE<br><br>\n",
       "<mark class=\"entity\" style=\"background: #0099CC; padding: 0.45em 0.6em; margin: 0 0.25em; line-height: 1; border-radius: 0.35em;\">\n",
       "    lecturer\n",
       "    <span style=\"font-size: 0.8em; font-weight: bold; line-height: 1; border-radius: 0.35em; vertical-align: middle; margin-left: 0.5rem\">Designation</span>\n",
       "</mark>\n",
       "<br><br>Oracle tutorials -  \n",
       "<mark class=\"entity\" style=\"background: #CC6666; padding: 0.45em 0.6em; margin: 0 0.25em; line-height: 1; border-radius: 0.35em;\">\n",
       "    Mumbai\n",
       "    <span style=\"font-size: 0.8em; font-weight: bold; line-height: 1; border-radius: 0.35em; vertical-align: middle; margin-left: 0.5rem\">Location</span>\n",
       "</mark>\n",
       ", Maharashtra -<br><br>April 2016 to Present<br><br>for computer science (STD 11th and 12th) (2 years)<br>➢ Worked at &quot;Dr.Babasaheb Ambedkar College, Chembur (W) &quot; as a \n",
       "<mark class=\"entity\" style=\"background: #0099CC; padding: 0.45em 0.6em; margin: 0 0.25em; line-height: 1; border-radius: 0.35em;\">\n",
       "    lecturer\n",
       "    <span style=\"font-size: 0.8em; font-weight: bold; line-height: 1; border-radius: 0.35em; vertical-align: middle; margin-left: 0.5rem\">Designation</span>\n",
       "</mark>\n",
       " for • B.Sc. (Computer<br>Science &amp; Information Technology)<br>• F.Y.J.C. (Computer Science &amp; I.T.)<br>• S.Y.J.C. (Computer Science &amp; I.T.)<br>➢ Worked at &quot;LIVE&quot; as a Head of the IT Department and Lecturer for Web designing.<br>➢ Worked at &quot;Kohinoor College Of Hotel Management&quot; as visiting \n",
       "<mark class=\"entity\" style=\"background: #0099CC; padding: 0.45em 0.6em; margin: 0 0.25em; line-height: 1; border-radius: 0.35em;\">\n",
       "    lecturer\n",
       "    <span style=\"font-size: 0.8em; font-weight: bold; line-height: 1; border-radius: 0.35em; vertical-align: middle; margin-left: 0.5rem\">Designation</span>\n",
       "</mark>\n",
       " for SEM I.<br>➢ Working at &quot;ORACLE TUTORIALS&quot; as a \n",
       "<mark class=\"entity\" style=\"background: #0099CC; padding: 0.45em 0.6em; margin: 0 0.25em; line-height: 1; border-radius: 0.35em;\">\n",
       "    lecturer\n",
       "    <span style=\"font-size: 0.8em; font-weight: bold; line-height: 1; border-radius: 0.35em; vertical-align: middle; margin-left: 0.5rem\">Designation</span>\n",
       "</mark>\n",
       " for computer science (STD 11th and 12th)<br><br>EDUCATION<br><br>MCA<br><br>Mumbai University -  Mumbai, Maharashtra<br><br>\n",
       "<mark class=\"entity\" style=\"background: #FFCC66; padding: 0.45em 0.6em; margin: 0 0.25em; line-height: 1; border-radius: 0.35em;\">\n",
       "    B.Sc. in Com.Sci\n",
       "    <span style=\"font-size: 0.8em; font-weight: bold; line-height: 1; border-radius: 0.35em; vertical-align: middle; margin-left: 0.5rem\">Degree</span>\n",
       "</mark>\n",
       "<br><br>\n",
       "<mark class=\"entity\" style=\"background: #99FFFF; padding: 0.45em 0.6em; margin: 0 0.25em; line-height: 1; border-radius: 0.35em;\">\n",
       "    Mumbai University\n",
       "    <span style=\"font-size: 0.8em; font-weight: bold; line-height: 1; border-radius: 0.35em; vertical-align: middle; margin-left: 0.5rem\">College Name</span>\n",
       "</mark>\n",
       " -  \n",
       "<mark class=\"entity\" style=\"background: #CC6666; padding: 0.45em 0.6em; margin: 0 0.25em; line-height: 1; border-radius: 0.35em;\">\n",
       "    Mumbai\n",
       "    <span style=\"font-size: 0.8em; font-weight: bold; line-height: 1; border-radius: 0.35em; vertical-align: middle; margin-left: 0.5rem\">Location</span>\n",
       "</mark>\n",
       ", Maharashtra<br><br>SKILLS<br><br>SEARCH ENGINE MARKETING (2 years), SEM (2 years), ACCESS (Less than 1 year), AJAX (Less<br>than 1 year), APACHE (Less than 1 year)<br><br>ADDITIONAL INFORMATION<br><br>Technical skills:<br>Languages: C, C++, Java (J2EE),<br>Web Component APIS:: Jdbc, Servlet, JSP.<br>Frameworks: Spring 4 &amp; Struts 2<br>ORM Framework: Hibernate<br>Web Development: Html5, CSS3, Java Script, Ajax &amp;JQuery, Angular Js<br><br>https://www.indeed.com/r/Ananya-Chavan/738779ab71971a96?isid=rex-download&amp;ikw=download-top&amp;co=IN<br>https://www.indeed.com/r/Ananya-Chavan/738779ab71971a96?isid=rex-download&amp;ikw=download-top&amp;co=IN<br><br><br>Application Servers: Apache Tomcat,<br>IDE: Eclipse, Netbeans<br>Database: Ms-Access, Mysql<br>Operating Systems: Windows 7, 8, 10<br>FTP Client: Filezilla<br>Versioning Tools: Git<br><br>Project Details:<br><br>&quot;Real Estate Application&quot; (Client: Global Realtor PVT. LTD Pune)<br>Front-End: Java (J2EE), JDBC, Servlet, JSP, Jquery.<br>Back end: Mysql.<br>Duration: 6 Month (Internship)<br>Company Name: AryanTech India Pvt. Ltd. Pune<br>My Role: Developer as Trainee.<br>Module: Module 4.<br>Description: Developed as a \n",
       "<mark class=\"entity\" style=\"background: #FFCC66; padding: 0.45em 0.6em; margin: 0 0.25em; line-height: 1; border-radius: 0.35em;\">\n",
       "    MCA\n",
       "    <span style=\"font-size: 0.8em; font-weight: bold; line-height: 1; border-radius: 0.35em; vertical-align: middle; margin-left: 0.5rem\">Degree</span>\n",
       "</mark>\n",
       " Final SEM Project for<br>&quot;Global Realtors PVT.LTD, Hinjewadi, Pune.&quot;<br>The Real Estate Web Application is an interactive, effective and revenue-generating website<br>designed for the Real Estate Industry. The main objective of this application is to help the Real<br>Estate Company to display unlimited number of property listings on the website.<br><br>&quot;Beauty Parlor Management System&quot; (B.Sc. (Com.Sci.))<br>Tool: VB 6.0<br>Language: VB<br>Database: MS-Access<br>Operating System: Windows XP<br>The Beauty Parlor Management System is an easy and effective system to use. The main features<br>of this system are to avoid manual work and keep storing all appointments of customers.<br><br>&quot;Web Designing Project (Reptiles.com) &quot; (B.Sc. (Com.Sci.))<br>Language: HTML and ASP<br>Tool: Dreamweaver 8.0<br>Database: MS-Access<br>Operating System: Windows XP<br>The Reptiles.com is a simple informative site. The main features of this system are to give all<br>information of Snakes.</div></span>"
      ],
      "text/plain": [
       "<IPython.core.display.HTML object>"
      ]
     },
     "metadata": {},
     "output_type": "display_data"
    }
   ],
   "source": [
    "doc = nlp_ner(\"Ananya Chavan\\nlecturer - oracle tutorials\\n\\nMumbai, Maharashtra - Email me on Indeed: indeed.com/r/Ananya-\\nChavan/738779ab71971a96\\n\\nSeeking a responsible job with an opportunity for professional challenges and utilize my skills\\nup to its extreme.\\n\\nWORK EXPERIENCE\\n\\nlecturer\\n\\nOracle tutorials -  Mumbai, Maharashtra -\\n\\nApril 2016 to Present\\n\\nfor computer science (STD 11th and 12th) (2 years)\\n➢ Worked at \\\"Dr.Babasaheb Ambedkar College, Chembur (W) \\\" as a lecturer for • B.Sc. (Computer\\nScience & Information Technology)\\n• F.Y.J.C. (Computer Science & I.T.)\\n• S.Y.J.C. (Computer Science & I.T.)\\n➢ Worked at \\\"LIVE\\\" as a Head of the IT Department and Lecturer for Web designing.\\n➢ Worked at \\\"Kohinoor College Of Hotel Management\\\" as visiting lecturer for SEM I.\\n➢ Working at \\\"ORACLE TUTORIALS\\\" as a lecturer for computer science (STD 11th and 12th)\\n\\nEDUCATION\\n\\nMCA\\n\\nMumbai University -  Mumbai, Maharashtra\\n\\nB.Sc. in Com.Sci\\n\\nMumbai University -  Mumbai, Maharashtra\\n\\nSKILLS\\n\\nSEARCH ENGINE MARKETING (2 years), SEM (2 years), ACCESS (Less than 1 year), AJAX (Less\\nthan 1 year), APACHE (Less than 1 year)\\n\\nADDITIONAL INFORMATION\\n\\nTechnical skills:\\nLanguages: C, C++, Java (J2EE),\\nWeb Component APIS:: Jdbc, Servlet, JSP.\\nFrameworks: Spring 4 & Struts 2\\nORM Framework: Hibernate\\nWeb Development: Html5, CSS3, Java Script, Ajax &JQuery, Angular Js\\n\\nhttps://www.indeed.com/r/Ananya-Chavan/738779ab71971a96?isid=rex-download&ikw=download-top&co=IN\\nhttps://www.indeed.com/r/Ananya-Chavan/738779ab71971a96?isid=rex-download&ikw=download-top&co=IN\\n\\n\\nApplication Servers: Apache Tomcat,\\nIDE: Eclipse, Netbeans\\nDatabase: Ms-Access, Mysql\\nOperating Systems: Windows 7, 8, 10\\nFTP Client: Filezilla\\nVersioning Tools: Git\\n\\nProject Details:\\n\\n\\\"Real Estate Application\\\" (Client: Global Realtor PVT. LTD Pune)\\nFront-End: Java (J2EE), JDBC, Servlet, JSP, Jquery.\\nBack end: Mysql.\\nDuration: 6 Month (Internship)\\nCompany Name: AryanTech India Pvt. Ltd. Pune\\nMy Role: Developer as Trainee.\\nModule: Module 4.\\nDescription: Developed as a MCA Final SEM Project for\\n\\\"Global Realtors PVT.LTD, Hinjewadi, Pune.\\\"\\nThe Real Estate Web Application is an interactive, effective and revenue-generating website\\ndesigned for the Real Estate Industry. The main objective of this application is to help the Real\\nEstate Company to display unlimited number of property listings on the website.\\n\\n\\\"Beauty Parlor Management System\\\" (B.Sc. (Com.Sci.))\\nTool: VB 6.0\\nLanguage: VB\\nDatabase: MS-Access\\nOperating System: Windows XP\\nThe Beauty Parlor Management System is an easy and effective system to use. The main features\\nof this system are to avoid manual work and keep storing all appointments of customers.\\n\\n\\\"Web Designing Project (Reptiles.com) \\\" (B.Sc. (Com.Sci.))\\nLanguage: HTML and ASP\\nTool: Dreamweaver 8.0\\nDatabase: MS-Access\\nOperating System: Windows XP\\nThe Reptiles.com is a simple informative site. The main features of this system are to give all\\ninformation of Snakes.\")\n",
    "\n",
    "options = {\"colors\": color_tag}\n",
    "\n",
    "spacy.displacy.render(doc, style=\"ent\", options= options, jupyter=True)"
   ]
  }
 ],
 "metadata": {
  "kernelspec": {
   "display_name": "Python 3 (ipykernel)",
   "language": "python",
   "name": "python3"
  },
  "language_info": {
   "codemirror_mode": {
    "name": "ipython",
    "version": 3
   },
   "file_extension": ".py",
   "mimetype": "text/x-python",
   "name": "python",
   "nbconvert_exporter": "python",
   "pygments_lexer": "ipython3",
   "version": "3.9.13"
  }
 },
 "nbformat": 4,
 "nbformat_minor": 4
}
